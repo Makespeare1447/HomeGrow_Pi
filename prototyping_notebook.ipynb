{
 "cells": [
  {
   "cell_type": "code",
   "execution_count": 9,
   "metadata": {},
   "outputs": [],
   "source": [
    "# 387161336:AAGKJeu_VaMk0Cn1PyrT0N0cCh3f9ijYwBM\n",
    "# 7102843"
   ]
  },
  {
   "cell_type": "code",
   "execution_count": 13,
   "metadata": {},
   "outputs": [
    {
     "data": {
      "text/plain": [
       "{'first_name': 'stixgrowboxbot',\n",
       " 'id': 387161336,\n",
       " 'is_bot': True,\n",
       " 'username': 'stixgrowbox_bot'}"
      ]
     },
     "execution_count": 13,
     "metadata": {},
     "output_type": "execute_result"
    }
   ],
   "source": [
    "import telepot\n",
    "bot = telepot.Bot('387161336:AAGKJeu_VaMk0Cn1PyrT0N0cCh3f9ijYwBM')\n",
    "bot.getMe()"
   ]
  },
  {
   "cell_type": "code",
   "execution_count": 14,
   "metadata": {},
   "outputs": [],
   "source": [
    "stringblabla = 'joo mann 1234'"
   ]
  },
  {
   "cell_type": "code",
   "execution_count": 15,
   "metadata": {},
   "outputs": [
    {
     "data": {
      "text/plain": [
       "{'chat': {'first_name': 'Sir Homunculus Loxodontus',\n",
       "  'id': 7102843,\n",
       "  'type': 'private',\n",
       "  'username': 'Faceschmerz'},\n",
       " 'date': 1558555169,\n",
       " 'from': {'first_name': 'stixgrowboxbot',\n",
       "  'id': 387161336,\n",
       "  'is_bot': True,\n",
       "  'username': 'stixgrowbox_bot'},\n",
       " 'message_id': 7777,\n",
       " 'text': 'joo mann 1234'}"
      ]
     },
     "execution_count": 15,
     "metadata": {},
     "output_type": "execute_result"
    }
   ],
   "source": [
    "bot.sendMessage(7102843, stringblabla)"
   ]
  },
  {
   "cell_type": "code",
   "execution_count": null,
   "metadata": {},
   "outputs": [],
   "source": []
  },
  {
   "cell_type": "code",
   "execution_count": null,
   "metadata": {},
   "outputs": [],
   "source": []
  }
 ],
 "metadata": {
  "kernelspec": {
   "display_name": "Python 3",
   "language": "python",
   "name": "python3"
  },
  "language_info": {
   "codemirror_mode": {
    "name": "ipython",
    "version": 3
   },
   "file_extension": ".py",
   "mimetype": "text/x-python",
   "name": "python",
   "nbconvert_exporter": "python",
   "pygments_lexer": "ipython3",
   "version": "3.6.4"
  }
 },
 "nbformat": 4,
 "nbformat_minor": 2
}

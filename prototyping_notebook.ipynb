{
 "cells": [
  {
   "cell_type": "code",
   "execution_count": 9,
   "metadata": {},
   "outputs": [],
   "source": [
    "# 387161336:AAGKJeu_VaMk0Cn1PyrT0N0cCh3f9ijYwBM\n",
    "# 7102843"
   ]
  },
  {
   "cell_type": "code",
   "execution_count": 22,
   "metadata": {},
   "outputs": [
    {
     "data": {
      "text/plain": [
       "{'first_name': 'stixgrowboxbot',\n",
       " 'id': 387161336,\n",
       " 'is_bot': True,\n",
       " 'username': 'stixgrowbox_bot'}"
      ]
     },
     "execution_count": 22,
     "metadata": {},
     "output_type": "execute_result"
    }
   ],
   "source": [
    "import telepot\n",
    "bot = telepot.Bot('387161336:AAGKJeu_VaMk0Cn1PyrT0N0cCh3f9ijYwBM')\n",
    "bot.getMe()"
   ]
  },
  {
   "cell_type": "code",
   "execution_count": 14,
   "metadata": {},
   "outputs": [],
   "source": [
    "stringblabla = 'joo mann 1234'"
   ]
  },
  {
   "cell_type": "code",
   "execution_count": 15,
   "metadata": {},
   "outputs": [
    {
     "data": {
      "text/plain": [
       "{'chat': {'first_name': 'Sir Homunculus Loxodontus',\n",
       "  'id': 7102843,\n",
       "  'type': 'private',\n",
       "  'username': 'Faceschmerz'},\n",
       " 'date': 1558555169,\n",
       " 'from': {'first_name': 'stixgrowboxbot',\n",
       "  'id': 387161336,\n",
       "  'is_bot': True,\n",
       "  'username': 'stixgrowbox_bot'},\n",
       " 'message_id': 7777,\n",
       " 'text': 'joo mann 1234'}"
      ]
     },
     "execution_count": 15,
     "metadata": {},
     "output_type": "execute_result"
    }
   ],
   "source": [
    "bot.sendMessage(7102843, stringblabla)"
   ]
  },
  {
   "cell_type": "code",
   "execution_count": 21,
   "metadata": {},
   "outputs": [
    {
     "data": {
      "text/plain": [
       "387161336"
      ]
     },
     "execution_count": 21,
     "metadata": {},
     "output_type": "execute_result"
    }
   ],
   "source": [
    "bot.getMe()['id']"
   ]
  },
  {
   "cell_type": "code",
   "execution_count": 23,
   "metadata": {},
   "outputs": [
    {
     "name": "stdout",
     "output_type": "stream",
     "text": [
      "[{'update_id': 154263592, 'message': {'message_id': 7774, 'from': {'id': 7102843, 'is_bot': False, 'first_name': 'Sir Homunculus Loxodontus', 'username': 'Faceschmerz', 'language_code': 'de'}, 'chat': {'id': 7102843, 'first_name': 'Sir Homunculus Loxodontus', 'username': 'Faceschmerz', 'type': 'private'}, 'date': 1558554204, 'text': 'hee'}}]\n"
     ]
    }
   ],
   "source": [
    "response = bot.getUpdates()\n",
    "print(response)"
   ]
  },
  {
   "cell_type": "code",
   "execution_count": 24,
   "metadata": {},
   "outputs": [
    {
     "data": {
      "text/plain": [
       "[{'message': {'chat': {'first_name': 'Sir Homunculus Loxodontus',\n",
       "    'id': 7102843,\n",
       "    'type': 'private',\n",
       "    'username': 'Faceschmerz'},\n",
       "   'date': 1558554204,\n",
       "   'from': {'first_name': 'Sir Homunculus Loxodontus',\n",
       "    'id': 7102843,\n",
       "    'is_bot': False,\n",
       "    'language_code': 'de',\n",
       "    'username': 'Faceschmerz'},\n",
       "   'message_id': 7774,\n",
       "   'text': 'hee'},\n",
       "  'update_id': 154263592}]"
      ]
     },
     "execution_count": 24,
     "metadata": {},
     "output_type": "execute_result"
    }
   ],
   "source": [
    "response"
   ]
  },
  {
   "cell_type": "code",
   "execution_count": null,
   "metadata": {},
   "outputs": [],
   "source": []
  }
 ],
 "metadata": {
  "kernelspec": {
   "display_name": "Python 3",
   "language": "python",
   "name": "python3"
  },
  "language_info": {
   "codemirror_mode": {
    "name": "ipython",
    "version": 3
   },
   "file_extension": ".py",
   "mimetype": "text/x-python",
   "name": "python",
   "nbconvert_exporter": "python",
   "pygments_lexer": "ipython3",
   "version": "3.6.4"
  }
 },
 "nbformat": 4,
 "nbformat_minor": 2
}
